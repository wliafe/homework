{
 "cells": [
  {
   "cell_type": "code",
   "execution_count": 1,
   "id": "d670a19b-df4f-428d-8b1f-8cd6f646822a",
   "metadata": {},
   "outputs": [],
   "source": [
    "import torch\n",
    "from torch import nn, optim\n",
    "from torch.nn import functional as F\n",
    "import mltools"
   ]
  },
  {
   "cell_type": "code",
   "execution_count": 2,
   "id": "0525f82e",
   "metadata": {},
   "outputs": [],
   "source": [
    "class LSTMCSCModel(nn.Module):\n",
    "    '''循环神经网络分类模型'''\n",
    "\n",
    "    def __init__(self, *args, vocab_size, **kwargs):\n",
    "        '''初始化函数'''\n",
    "        nn.Module.__init__(self, *args, **kwargs)\n",
    "        self.vocab_size = vocab_size  # 词汇表大小\n",
    "        self.hidden_layer = nn.LSTM(self.vocab_size, hidden_size=512, batch_first=True, bidirectional=True)  # 定义隐藏层\n",
    "        self.output_layer = nn.Linear(512 * 2, 2)  # 定义输出层\n",
    "\n",
    "    def forward(self, x, state=None):\n",
    "        '''前向传播'''\n",
    "        x = F.one_hot(x, self.vocab_size)  # 将输入嵌入, x形状为(批量大小, 时间步数, 嵌入大小)\n",
    "        x = x.to(torch.float32)\n",
    "        x, state = self.hidden_layer(x, state)  # x形状为(批量大小, 时间步数, 隐藏大小), state形状为(隐藏层数 * directions, 批量大小, 隐藏大小)\n",
    "        x = x.mean(dim=1)  # 在时间步数维度取平均, x形状为(批量大小, 隐藏大小)\n",
    "        x = self.output_layer(x)  # 它的输出形状是(批量大小, 输出大小)\n",
    "        return x, state"
   ]
  },
  {
   "cell_type": "code",
   "execution_count": 3,
   "id": "7569a924-2352-4a72-8bc5-0e3a520e04f0",
   "metadata": {},
   "outputs": [],
   "source": [
    "class LSTMCSC(mltools.MachineLearning):\n",
    "    '''RNN 文本分类学习'''\n",
    "\n",
    "    @mltools.MachineLearning.trainer\n",
    "    def train(self, num_epochs):\n",
    "        '''迭代训练'''\n",
    "        for _ in range(1, num_epochs + 1):\n",
    "            self.timer.start()\n",
    "\n",
    "            # 计算训练集\n",
    "            metric_train = mltools.Accumulator(2)  # 累加器：(train_loss, train_size)\n",
    "            self.model.train()  # 训练模式\n",
    "            for x, y in self.train_iter:\n",
    "                x = x.to(self.device)  # 转换x\n",
    "                y = y.to(self.device)  # 转换y\n",
    "                y_train, _ = self.model(x)  # 计算模型\n",
    "                train_loss = self.loss(y_train, y)  # 计算训练损失\n",
    "\n",
    "                # 梯度更新\n",
    "                self.optimizer.zero_grad()\n",
    "                train_loss.backward()\n",
    "                nn.utils.clip_grad_norm_(self.model.parameters(), max_norm=1, norm_type=2)\n",
    "                self.optimizer.step()\n",
    "\n",
    "                metric_train.add(train_loss * y.numel(), y.numel())\n",
    "            self.recorder[0].append(metric_train[0] / metric_train[1])\n",
    "\n",
    "            self.timer.stop()\n",
    "\n",
    "            # 计算验证集\n",
    "            metric_val = mltools.Accumulator(3)  # 累加器：(val_loss, val_acc, val_size)\n",
    "            self.model.eval()  # 验证模式\n",
    "            with torch.no_grad():\n",
    "                for x, y in self.val_iter:\n",
    "                    x = x.to(self.device)  # 转换x\n",
    "                    y = y.to(self.device)  # 转换y\n",
    "                    y_val, _ = self.model(x)  # 计算模型\n",
    "                    val_loss = self.loss(y_val, y)  # 计算验证损失\n",
    "                    val_pred = y_val.argmax(dim=1)  # 计算预测值\n",
    "                    val_acc = (val_pred == y).sum()  # 计算验证准确率\n",
    "                    metric_val.add(val_loss * y.numel(), val_acc, y.numel())\n",
    "            self.recorder[1].append(metric_val[0] / metric_val[2])\n",
    "            self.recorder[2].append(metric_val[1] / metric_val[2])\n",
    "\n",
    "            # 打印输出值\n",
    "            self.logger.info(f'train loss {self.recorder[0][-1]:.3f}, val loss {self.recorder[1][-1]:.3f}, val acc {self.recorder[2][-1]:.3f}, {self.timer.avg():.1f} sec/epoch on {str(self.device)}')\n",
    "            self.animator.show(self.recorder.data)  # 添加损失值\n",
    "        else:\n",
    "            # 打印输出值\n",
    "            self.logger.info(f'train loss {self.recorder[0][-1]:.3f}, val loss {self.recorder[1][-1]:.3f}, val acc {self.recorder[2][-1]:.3f}, {self.timer.avg():.1f} sec/epoch on {str(self.device)}')\n",
    "\n",
    "    @mltools.MachineLearning.tester\n",
    "    def test(self):\n",
    "        '''测试模型'''\n",
    "        metric = mltools.Accumulator(2)  # 累加器：(test_acc, test_size)\n",
    "        with torch.no_grad():\n",
    "            for x, y in self.test_iter:\n",
    "                x = x.to(self.device)  # 转换x\n",
    "                y = y.to(self.device)  # 转换y\n",
    "                y_test, _ = self.model(x)  # 计算模型\n",
    "                test_pred = y_test.argmax(dim=1)  # 计算准确率\n",
    "                test_acc = (test_pred == y).sum()  # 计算测试准确率\n",
    "                metric.add(test_acc, y.numel())\n",
    "        self.logger.info(f'test acc {metric[0] / metric[1]:.3f}')  # 计算测试准确率并输出\n",
    "\n",
    "    @mltools.MachineLearning.predictor\n",
    "    def predict(self):\n",
    "        '''预测模型'''\n",
    "        x, y = next(iter(self.test_iter))  # 从测试中取一个批量\n",
    "        x = x[:10].to(self.device)\n",
    "        y = y[:10].to(self.device)\n",
    "        y_pred, _ = self.model(x)  # 计算模型\n",
    "        y_pred = y_pred.argmax(dim=1)  # 计算预测\n",
    "        for content, pred, real in zip(x, y_pred, y):\n",
    "            print(f'预测值 {pred}, 真实值 {real}, 数据 {''.join(self.vocab[content.tolist()]).replace('<pad>', ' ')}')"
   ]
  },
  {
   "cell_type": "code",
   "execution_count": 4,
   "id": "23482378",
   "metadata": {},
   "outputs": [],
   "source": [
    "train_iter, val_iter, test_iter, vocab = mltools.chn_senti_corp('../data/ChnSentiCorp_htl_all.csv')  # 加载词表，数据集\n",
    "model = LSTMCSCModel(vocab_size=len(vocab))  # 定义训练模型\n",
    "loss = nn.CrossEntropyLoss()  # 设置损失函数\n",
    "optimizer = optim.SGD(model.parameters(), lr=1e-1)  # 设置优化器\n",
    "legend = ['train loss', 'val loss', 'val acc']  # 设置图例\n",
    "device = torch.device('cuda')  # 设置设备\n",
    "ml = LSTMCSC(train_iter, val_iter, test_iter, vocab=vocab, model=model, loss=loss, optimizer=optimizer, legend=legend, device=device)"
   ]
  },
  {
   "cell_type": "code",
   "execution_count": 5,
   "id": "2b761f36-2b2c-4229-b169-4b6245e6632a",
   "metadata": {},
   "outputs": [
    {
     "name": "stderr",
     "output_type": "stream",
     "text": [
      "2025-05-24 15:44:16,343 - INFO: train loss 0.611, val loss 0.596, val acc 0.702, 38.7 sec/epoch on cuda\n"
     ]
    },
    {
     "data": {
      "image/png": "[encoded data removed]",
      "text/plain": [
       "<Figure size 640x480 with 1 Axes>"
      ]
     },
     "metadata": {},
     "output_type": "display_data"
    }
   ],
   "source": [
    "ml.train(num_epochs=10)  # 训练"
   ]
  },
  {
   "cell_type": "code",
   "execution_count": 6,
   "id": "670d4e12-f6d7-47ef-8c2e-8ac52298a8fa",
   "metadata": {},
   "outputs": [
    {
     "name": "stderr",
     "output_type": "stream",
     "text": [
      "2025-05-24 15:44:19,659 - INFO: test acc 0.678\n"
     ]
    }
   ],
   "source": [
    "ml.test()  # 测试"
   ]
  },
  {
   "cell_type": "code",
   "execution_count": 7,
   "id": "aab4edac",
   "metadata": {},
   "outputs": [
    {
     "name": "stdout",
     "output_type": "stream",
     "text": [
      "预测值 1, 真实值 1, 数据 我订的是430元的大床间，房间大小和设施都不错，卫生间里仅设淋浴房很实用，是我所欣赏的。早餐也还不错，中西都能<unk>顾。缺点：酒店餐厅晚8点就打<unk>，为了催还在就餐的客人就把灯<unk>了一半，暗暗的让人像在酒吧里吃饭，感觉这样的服务不够四星级；酒店没有停车场，停车就在大门口那一小块豆腐干似的地方，而且对住店客人也收费，不方便驾车族；酒店给了我们两个靠近电梯间的房间，一晚上电梯上下停靠的叮当声此起<unk><unk>，让人无法\n",
      "预测值 1, 真实值 1, 数据 价格便宜,环境幽雅,就是餐厅跟不上,但服务态度及房间配置基本达                                                                                                                                                                         \n",
      "预测值 1, 真实值 1, 数据 总体感觉不错.只是入住时收音机调节钮不能使用,打电话请工程部维修后才能听音乐,5颗星不应该这样.地灯也不亮,没有再计较.                                                                                                                                            \n",
      "预测值 1, 真实值 1, 数据 真的是独栋别墅，我住的是每栋6间房，可惜没有了大床房。装修有点旧了，周边环境很好，适合休闲度假，这个价位超值了                                                                                                                                                 \n",
      "预测值 1, 真实值 0, 数据 酒店自己宣传是5星级别，价格也不菲。所以我们就按照新五星酒店标准看看：1、位置在人和镇。总机服务员、到酒店网站上，没一个描述清晰的。后来才知道，就是人和镇。给司机说人和镇都知道。说金开大道，绕了28元钱才到！2、正门那个门卫就是<unk>草人，基本没用，就是打个手势。拦出租还是要自己去，我还以为会配备的对讲，可以在院子外面帮客人拦。3、1410房间装修材质很糟糕，很低档。洗手间天花板的刷涂料掉满了洗手台。\n",
      "预测值 1, 真实值 0, 数据 前台服的貌有待改善，做事欠效率，因三名服竟同理一位客人的，其他客人站在服台前，竟不加理，而且的欠佳、冷淡，不，不能符合四星的酒店服。酒台房的施，尤其是生，我想比三星要差，整晚睡得不好。唯一可以美的是bellboy，他的服度良好，笑容可<unk>。如果要500元住一晚的，在不划算。                                                                \n",
      "预测值 1, 真实值 1, 数据 价格实惠，基本还可以宾馆反馈2008年4月17日：希望下次再入住本酒店。                                                                                                                                                                    \n",
      "预测值 1, 真实值 0, 数据 洒店的房间太小,设计也不合理。电梯太少,三十几层楼才只有两个电梯.早餐还需先到三楼走一条长廊后再转电梯到37楼,等一次电梯最少要花上5分钟。价格也偏贵，加上早餐及宽带的费用后，与五星级的酒店差不了多少。宾馆反馈2008年4月25日：首先需要给您更正的就是,我酒店总共有29层,而早餐在27楼,电梯一共有三个,房间有大小区别,可能您这次所住的比较小,关于宽带,08年我们已经将宽带免费,而且给予携程用户\n",
      "预测值 1, 真实值 1, 数据 整体的感觉都很不错，可能是因为公司也在楼上的缘故，觉得很方便。酒店位置在珠海也属于很便利的。                                                                                                                                                          \n",
      "预测值 1, 真实值 0, 数据 客户反映此家酒店的服务和房间也就是2星级标准。尤其服务及人员素质都不尽人意，令人失望。但在网上却排在推荐第一位置，请你们要按照实际情况来向客人推荐。是一家很差的酒店。宾馆反馈2008年5月30日：我酒店一直非常重视携程网客人给我们的评价，对于客人提出的意见我们会及时的进行改正和完善。今天我们发现点评中有一位客人对我们的评价很差，于是及时联系了实际住宿客人<unk>先生，<unk>先生反映在酒店住宿期间对客房、服务\n"
     ]
    }
   ],
   "source": [
    "ml.predict()  # 预测"
   ]
  }
 ],
 "metadata": {
  "kernelspec": {
   "display_name": "pytorch",
   "language": "python",
   "name": "python3"
  },
  "language_info": {
   "codemirror_mode": {
    "name": "ipython",
    "version": 3
   },
   "file_extension": ".py",
   "mimetype": "text/x-python",
   "name": "python",
   "nbconvert_exporter": "python",
   "pygments_lexer": "ipython3",
   "version": "3.12.9"
  },
  "widgets": {
   "application/vnd.jupyter.widget-state+json": {
    "state": {},
    "version_major": 2,
    "version_minor": 0
   }
  }
 },
 "nbformat": 4,
 "nbformat_minor": 5
}
