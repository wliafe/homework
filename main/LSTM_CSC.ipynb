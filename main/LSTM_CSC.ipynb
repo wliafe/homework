{
 "cells": [
  {
   "cell_type": "code",
   "execution_count": 1,
   "id": "d670a19b-df4f-428d-8b1f-8cd6f646822a",
   "metadata": {},
   "outputs": [],
   "source": [
    "import torch\n",
    "from torch import nn, optim\n",
    "from torch.nn import functional as F\n",
    "import mltools"
   ]
  },
  {
   "cell_type": "code",
   "execution_count": 2,
   "id": "7569a924-2352-4a72-8bc5-0e3a520e04f0",
   "metadata": {},
   "outputs": [],
   "source": [
    "train_iter, val_iter, test_iter, vocab = mltools.chn_senti_corp('../data/ChnSentiCorp_htl_all.csv')  # 加载词表，数据集\n",
    "\n",
    "\n",
    "class LSTMCSCModel(nn.Module):\n",
    "    '''循环神经网络分类模型'''\n",
    "\n",
    "    def __init__(self, *args, **kwargs):\n",
    "        '''初始化函数'''\n",
    "        nn.Module.__init__(self, *args, **kwargs)\n",
    "        self.hidden_layer = nn.LSTM(len(vocab), hidden_size=512, batch_first=True, bidirectional=True)  # 定义隐藏层\n",
    "        self.output_layer = nn.Linear(512 * 2, 2)  # 定义输出层\n",
    "\n",
    "    def forward(self, x, state=None):\n",
    "        '''前向传播'''\n",
    "        x = F.one_hot(x, len(vocab))  # 将输入嵌入, x形状为(批量大小, 时间步数, 嵌入大小)\n",
    "        x = x.to(torch.float32)\n",
    "        x, state = self.hidden_layer(x, state)  # x形状为(批量大小, 时间步数, 隐藏大小), state形状为(隐藏层数 * directions, 批量大小, 隐藏大小)\n",
    "        x = x.mean(dim=1)  # 在时间步数维度取平均, x形状为(批量大小, 隐藏大小)\n",
    "        x = self.output_layer(x)  # 它的输出形状是(批量大小, 输出大小)\n",
    "        return x, state\n",
    "    \n",
    "\n",
    "model = LSTMCSCModel()  # 定义训练模型\n",
    "device = torch.device('cuda')\n",
    "\n",
    "\n",
    "class LSTMCSC(mltools.MachineLearning):\n",
    "    '''RNN 文本分类学习'''\n",
    "\n",
    "    def train_epochs(self, num_epochs):\n",
    "        '''迭代训练'''\n",
    "        for _ in range(1, num_epochs + 1):\n",
    "            self.timer.start()\n",
    "\n",
    "            # 计算训练集\n",
    "            metric_train = mltools.Accumulator(2)  # 累加器：(train_loss, train_size)\n",
    "            self.model.train()  # 训练模式\n",
    "            for x, y in self.train_iter:\n",
    "                x = x.to(self.device)  # 转换x\n",
    "                y = y.to(self.device)  # 转换y\n",
    "                y_train, _ = self.model(x)  # 计算模型\n",
    "                train_loss = self.loss(y_train, y)  # 计算训练损失\n",
    "\n",
    "                # 梯度更新\n",
    "                self.optimizer.zero_grad()\n",
    "                train_loss.backward()\n",
    "                nn.utils.clip_grad_norm_(self.model.parameters(), max_norm=1, norm_type=2)\n",
    "                self.optimizer.step()\n",
    "\n",
    "                metric_train.add(train_loss * len(y), len(y))\n",
    "            self.recorder[0].append(metric_train[0] / metric_train[1])\n",
    "\n",
    "            self.timer.stop()\n",
    "\n",
    "            # 计算验证集\n",
    "            metric_val = mltools.Accumulator(3)  # 累加器：(val_loss, val_acc, val_size)\n",
    "            self.model.eval()  # 验证模式\n",
    "            with torch.no_grad():\n",
    "                for x, y in self.val_iter:\n",
    "                    x = x.to(self.device)  # 转换x\n",
    "                    y = y.to(self.device)  # 转换y\n",
    "                    y_val, _ = self.model(x)  # 计算模型\n",
    "                    val_loss = self.loss(y_val, y)  # 计算验证损失\n",
    "                    val_pred = y_val.argmax(dim=1)  # 计算预测值\n",
    "                    val_acc = (val_pred == y).sum()  # 计算验证准确率\n",
    "                    metric_val.add(val_loss * len(y), val_acc, len(y))\n",
    "            self.recorder[1].append(metric_val[0] / metric_val[2])\n",
    "            self.recorder[2].append(metric_val[1] / metric_val[2])\n",
    "\n",
    "            # 打印输出值\n",
    "            self.logger.info(f'train loss {self.recorder[0][-1]:.3f}, val loss {self.recorder[1][-1]:.3f}, val acc {self.recorder[2][-1]:.3f}, {self.timer.avg():.1f} sec/epoch on {str(self.device)}')\n",
    "            self.animator.show(self.recorder.data, legend=['train loss', 'val loss', 'val acc'])  # 添加损失值\n",
    "        else:\n",
    "            # 打印输出值\n",
    "            self.logger.info(f'train loss {self.recorder[0][-1]:.3f}, val loss {self.recorder[1][-1]:.3f}, val acc {self.recorder[2][-1]:.3f}, {self.timer.avg():.1f} sec/epoch on {str(self.device)}')\n",
    "\n",
    "    def test(self):\n",
    "        '''测试模型'''\n",
    "        metric = mltools.Accumulator(2)  # 累加器：(test_acc, test_size)\n",
    "        self.model.eval()  # 验证模式\n",
    "        with torch.no_grad():\n",
    "            for x, y in self.test_iter:\n",
    "                x = x.to(self.device)  # 转换x\n",
    "                y = y.to(self.device)  # 转换y\n",
    "                y_test, _ = self.model(x)  # 计算模型\n",
    "                test_pred = y_test.argmax(dim=1)  # 计算准确率\n",
    "                test_acc = (test_pred == y).sum()  # 计算测试准确率\n",
    "                metric.add(test_acc, len(y))\n",
    "        self.logger.info(f'test acc {metric[0] / metric[1]:.3f}')  # 计算测试准确率并输出\n",
    "\n",
    "    def predict(self):\n",
    "        '''预测模型'''\n",
    "        self.model.eval()  # 验证模式\n",
    "        x, y = next(iter(self.test_iter))  # 从测试中取一个批量\n",
    "        x = x[:10].to(self.device)\n",
    "        y = y[:10].to(self.device)\n",
    "        y_pred, _ = self.model(x)  # 计算模型\n",
    "        y_pred = y_pred.argmax(dim=1)  # 计算预测\n",
    "        for content, pred, real in zip(x, y_pred, y):\n",
    "            print(f'预测值 {pred}, 真实值 {real}, 数据 {''.join(vocab[content.tolist()]).replace('<pad>', ' ')}')\n",
    "\n",
    "\n",
    "ml = LSTMCSC(model, train_iter, val_iter, test_iter, device=device)"
   ]
  },
  {
   "cell_type": "code",
   "execution_count": 3,
   "id": "2b761f36-2b2c-4229-b169-4b6245e6632a",
   "metadata": {},
   "outputs": [
    {
     "name": "stderr",
     "output_type": "stream",
     "text": [
      "2025-05-23 10:45:33,840 - INFO: train loss 0.603, val loss 0.634, val acc 0.655, 39.1 sec/epoch on cuda\n"
     ]
    },
    {
     "data": {
      "image/png": "[encoded data removed]",
      "text/plain": [
       "<Figure size 640x480 with 1 Axes>"
      ]
     },
     "metadata": {},
     "output_type": "display_data"
    }
   ],
   "source": [
    "ml.set_loss(nn.CrossEntropyLoss())\n",
    "ml.set_optimizer(optim.SGD(model.parameters(), lr=1e-1))\n",
    "ml.train(num_epochs=10)  # 训练"
   ]
  },
  {
   "cell_type": "code",
   "execution_count": 4,
   "id": "670d4e12-f6d7-47ef-8c2e-8ac52298a8fa",
   "metadata": {},
   "outputs": [
    {
     "name": "stderr",
     "output_type": "stream",
     "text": [
      "2025-05-23 10:45:37,416 - INFO: test acc 0.681\n"
     ]
    }
   ],
   "source": [
    "ml.test()  # 测试"
   ]
  },
  {
   "cell_type": "code",
   "execution_count": 5,
   "id": "aab4edac",
   "metadata": {},
   "outputs": [
    {
     "name": "stdout",
     "output_type": "stream",
     "text": [
      "预测值 1, 真实值 1, 数据 房间格局还可以,但是从4星级的酒店角度看，没有浴缸也不失为一美中不足                                                                                                                                                                      \n",
      "预测值 1, 真实值 1, 数据 酒店离机场较近，方便，房间设施也不错，工作人员态度也挺好，但周边环境不是太好，靠街，比较吵闹。                                                                                                                                                         \n",
      "预测值 1, 真实值 1, 数据 位置好是没得说的，酒店比较老旧了，宽带有的还要收费。                                                                                                                                                                              \n",
      "预测值 1, 真实值 1, 数据 房间还是可以的,但是温泉的团队客人实在太多,跟每个池子都象下<unk><unk>,吵吵闹闹,不象在享受了.下午去问:人多,晚上去还是人多,第二天一开门就去,人很少,半小时后,不得了,象老式公共浴室,人满为<unk>,团队的大巴士来了!!!                                                                                             \n",
      "预测值 1, 真实值 1, 数据 在都会海逸住了4天，还不错。下次来应该还会考虑吧。去尖沙嘴的酒店巴士还算方便，酒店附近吃饭超级方便。                                                                                                                                                      \n",
      "预测值 1, 真实值 1, 数据 是一家非常不的酒店，物有所值，境非常好，前看我是2人一起去的，又送了一份免的早餐，定的候明只有一份的，人感。唯一不足的是生的淋浴房的玻璃好像不能，有水。                                                                                                                            \n",
      "预测值 1, 真实值 1, 数据 交通方便，餐厅饭菜不错，只是较小，忙时要预定。价格合理，下次还住这里！补充点评2008年4月11日：刷卡时国内卡刷不出来，到是国外的卡刷出来了。奇怪！                                                                                                                             \n",
      "预测值 1, 真实值 0, 数据 虽然在火车站不远处，走对路10到15分钟，但位置比较不好找，如果不打车去基本得问两三人。打电话到酒店问路时发现接待员也对具体怎么到达不太清楚。位置比较偏，但是住九楼早上也会被车吵醒，也许仅仅和当地司机习惯按喇叭有关。房间比较大，但是地毯有污迹，和两星半的级数不符。楼下晚上有小食摊倒是挺方便。                                                      \n",
      "预测值 1, 真实值 1, 数据 我是第三次入住了,但是给这家宾馆留言还是第一次,,这次入住我的一位朋友喝醉了,走到大厅我朋友就\"现场直播\"了~~~~~呵呵,他们有几位服务员都主动来帮我,有一位服务员还帮我把我朋友背到了房间,过后他们值班经理还打电话到我房间询问我朋友的情况,这里的服务真的挺让我感动的,我下次还会入住这家宾馆.                                                     \n",
      "预测值 1, 真实值 1, 数据 最近半年第三次个人目的去香港，因为很熟了，所以很少坐地铁，更少打车，这样华美达的位置其实很不错，如果不是皇后大道上的万豪酒店，就成了海景房了，呵呵。楼下德<unk>道西很多巴士，A21可以直达，尽管我到的那天香港暴雨，大屿山高速封闭，只有搭机场快线进港岛，仍然可以在香港机铁站搭到免费的酒店空调小巴，大约十五分钟一班吧，没什么人，很不错。房间订度假产品的时候被告知只有双床房，但是我跟携程客服说给我标上就可以\n"
     ]
    }
   ],
   "source": [
    "ml.predict()  # 预测"
   ]
  }
 ],
 "metadata": {
  "kernelspec": {
   "display_name": "pytorch",
   "language": "python",
   "name": "python3"
  },
  "language_info": {
   "codemirror_mode": {
    "name": "ipython",
    "version": 3
   },
   "file_extension": ".py",
   "mimetype": "text/x-python",
   "name": "python",
   "nbconvert_exporter": "python",
   "pygments_lexer": "ipython3",
   "version": "3.12.9"
  },
  "widgets": {
   "application/vnd.jupyter.widget-state+json": {
    "state": {},
    "version_major": 2,
    "version_minor": 0
   }
  }
 },
 "nbformat": 4,
 "nbformat_minor": 5
}
