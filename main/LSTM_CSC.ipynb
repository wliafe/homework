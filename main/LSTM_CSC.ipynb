{
 "cells": [
  {
   "cell_type": "code",
   "execution_count": 1,
   "id": "d670a19b-df4f-428d-8b1f-8cd6f646822a",
   "metadata": {},
   "outputs": [],
   "source": [
    "import torch\n",
    "from torch import nn, optim\n",
    "from torch.nn import functional as F\n",
    "import mltools"
   ]
  },
  {
   "cell_type": "code",
   "execution_count": 2,
   "id": "0525f82e",
   "metadata": {},
   "outputs": [],
   "source": [
    "train_iter, val_iter, test_iter, vocab = mltools.chn_senti_corp('../data/ChnSentiCorp_htl_all.csv')  # 加载词表，数据集\n",
    "\n",
    "\n",
    "class LSTMCSCModel(nn.Module):\n",
    "    '''循环神经网络分类模型'''\n",
    "\n",
    "    def __init__(self, *args, **kwargs):\n",
    "        '''初始化函数'''\n",
    "        nn.Module.__init__(self, *args, **kwargs)\n",
    "        self.hidden_layer = nn.LSTM(len(vocab), hidden_size=512, batch_first=True, bidirectional=True)  # 定义隐藏层\n",
    "        self.output_layer = nn.Linear(512 * 2, 2)  # 定义输出层\n",
    "\n",
    "    def forward(self, x, state=None):\n",
    "        '''前向传播'''\n",
    "        x = F.one_hot(x, len(vocab))  # 将输入嵌入, x形状为(批量大小, 时间步数, 嵌入大小)\n",
    "        x = x.to(torch.float32)\n",
    "        x, state = self.hidden_layer(x, state)  # x形状为(批量大小, 时间步数, 隐藏大小), state形状为(隐藏层数 * directions, 批量大小, 隐藏大小)\n",
    "        x = x.mean(dim=1)  # 在时间步数维度取平均, x形状为(批量大小, 隐藏大小)\n",
    "        x = self.output_layer(x)  # 它的输出形状是(批量大小, 输出大小)\n",
    "        return x, state\n",
    "    \n",
    "\n",
    "model = LSTMCSCModel()  # 定义训练模型\n",
    "device = torch.device('cuda')"
   ]
  },
  {
   "cell_type": "code",
   "execution_count": null,
   "id": "7569a924-2352-4a72-8bc5-0e3a520e04f0",
   "metadata": {},
   "outputs": [],
   "source": [
    "class LSTMCSC(mltools.MachineLearning):\n",
    "    '''RNN 文本分类学习'''\n",
    "\n",
    "    @mltools.MachineLearning.trainer\n",
    "    def train(self, num_epochs):\n",
    "        '''迭代训练'''\n",
    "        for _ in range(1, num_epochs + 1):\n",
    "            self.timer.start()\n",
    "\n",
    "            # 计算训练集\n",
    "            metric_train = mltools.Accumulator(2)  # 累加器：(train_loss, train_size)\n",
    "            self.model.train()  # 训练模式\n",
    "            for x, y in self.train_iter:\n",
    "                x = x.to(self.device)  # 转换x\n",
    "                y = y.to(self.device)  # 转换y\n",
    "                y_train, _ = self.model(x)  # 计算模型\n",
    "                train_loss = self.loss(y_train, y)  # 计算训练损失\n",
    "\n",
    "                # 梯度更新\n",
    "                self.optimizer.zero_grad()\n",
    "                train_loss.backward()\n",
    "                nn.utils.clip_grad_norm_(self.model.parameters(), max_norm=1, norm_type=2)\n",
    "                self.optimizer.step()\n",
    "\n",
    "                metric_train.add(train_loss * y.numel(), y.numel())\n",
    "            self.recorder[0].append(metric_train[0] / metric_train[1])\n",
    "\n",
    "            self.timer.stop()\n",
    "\n",
    "            # 计算验证集\n",
    "            metric_val = mltools.Accumulator(3)  # 累加器：(val_loss, val_acc, val_size)\n",
    "            self.model.eval()  # 验证模式\n",
    "            with torch.no_grad():\n",
    "                for x, y in self.val_iter:\n",
    "                    x = x.to(self.device)  # 转换x\n",
    "                    y = y.to(self.device)  # 转换y\n",
    "                    y_val, _ = self.model(x)  # 计算模型\n",
    "                    val_loss = self.loss(y_val, y)  # 计算验证损失\n",
    "                    val_pred = y_val.argmax(dim=1)  # 计算预测值\n",
    "                    val_acc = (val_pred == y).sum()  # 计算验证准确率\n",
    "                    metric_val.add(val_loss * y.numel(), val_acc, y.numel())\n",
    "            self.recorder[1].append(metric_val[0] / metric_val[2])\n",
    "            self.recorder[2].append(metric_val[1] / metric_val[2])\n",
    "\n",
    "            # 打印输出值\n",
    "            self.logger.info(f'train loss {self.recorder[0][-1]:.3f}, val loss {self.recorder[1][-1]:.3f}, val acc {self.recorder[2][-1]:.3f}, {self.timer.avg():.1f} sec/epoch on {str(self.device)}')\n",
    "            self.animator.show(self.recorder.data, legend=['train loss', 'val loss', 'val acc'])  # 添加损失值\n",
    "        else:\n",
    "            # 打印输出值\n",
    "            self.logger.info(f'train loss {self.recorder[0][-1]:.3f}, val loss {self.recorder[1][-1]:.3f}, val acc {self.recorder[2][-1]:.3f}, {self.timer.avg():.1f} sec/epoch on {str(self.device)}')\n",
    "\n",
    "    @mltools.MachineLearning.tester\n",
    "    def test(self):\n",
    "        '''测试模型'''\n",
    "        metric = mltools.Accumulator(2)  # 累加器：(test_acc, test_size)\n",
    "        with torch.no_grad():\n",
    "            for x, y in self.test_iter:\n",
    "                x = x.to(self.device)  # 转换x\n",
    "                y = y.to(self.device)  # 转换y\n",
    "                y_test, _ = self.model(x)  # 计算模型\n",
    "                test_pred = y_test.argmax(dim=1)  # 计算准确率\n",
    "                test_acc = (test_pred == y).sum()  # 计算测试准确率\n",
    "                metric.add(test_acc, y.numel())\n",
    "        self.logger.info(f'test acc {metric[0] / metric[1]:.3f}')  # 计算测试准确率并输出\n",
    "\n",
    "    @mltools.MachineLearning.predictor\n",
    "    def predict(self):\n",
    "        '''预测模型'''\n",
    "        x, y = next(iter(self.test_iter))  # 从测试中取一个批量\n",
    "        x = x[:10].to(self.device)\n",
    "        y = y[:10].to(self.device)\n",
    "        y_pred, _ = self.model(x)  # 计算模型\n",
    "        y_pred = y_pred.argmax(dim=1)  # 计算预测\n",
    "        for content, pred, real in zip(x, y_pred, y):\n",
    "            print(f'预测值 {pred}, 真实值 {real}, 数据 {''.join(vocab[content.tolist()]).replace('<pad>', ' ')}')\n",
    "\n",
    "\n",
    "ml = LSTMCSC(model, train_iter, val_iter, test_iter, device=device)"
   ]
  },
  {
   "cell_type": "code",
   "execution_count": 4,
   "id": "23482378",
   "metadata": {},
   "outputs": [],
   "source": [
    "ml.set_loss(nn.CrossEntropyLoss())\n",
    "ml.set_optimizer(optim.SGD(model.parameters(), lr=1e-1))"
   ]
  },
  {
   "cell_type": "code",
   "execution_count": 5,
   "id": "2b761f36-2b2c-4229-b169-4b6245e6632a",
   "metadata": {},
   "outputs": [
    {
     "name": "stderr",
     "output_type": "stream",
     "text": [
      "2025-05-23 16:03:40,341 - INFO: train loss 0.611, val loss 0.607, val acc 0.684, 151.9 sec/epoch on cuda\n"
     ]
    },
    {
     "data": {
      "image/png": "[encoded data removed]",
      "text/plain": [
       "<Figure size 640x480 with 1 Axes>"
      ]
     },
     "metadata": {},
     "output_type": "display_data"
    }
   ],
   "source": [
    "ml.train(num_epochs=10)  # 训练"
   ]
  },
  {
   "cell_type": "code",
   "execution_count": 7,
   "id": "670d4e12-f6d7-47ef-8c2e-8ac52298a8fa",
   "metadata": {},
   "outputs": [
    {
     "name": "stderr",
     "output_type": "stream",
     "text": [
      "2025-05-23 16:03:52,605 - INFO: test acc 0.691\n"
     ]
    }
   ],
   "source": [
    "ml.test()  # 测试"
   ]
  },
  {
   "cell_type": "code",
   "execution_count": 8,
   "id": "aab4edac",
   "metadata": {},
   "outputs": [
    {
     "name": "stdout",
     "output_type": "stream",
     "text": [
      "预测值 1, 真实值 0, 数据 之前和你们电话反映了，2个问题。1，不接受携程客户用信用卡。你们和酒店负责人确认后，给我的回答是pos机坏了，所有卡不能用，其实根本不是：她们亲口跟我说了多次，因为携程预定的所以不能用，退房结帐时，亲眼看见别人用卡支付。而且，在我退房时，又有新来的2人由于携程预定被拒绝用卡预授权。难道你们宁愿被人骗么，或者和酒店有<unk>结，不相信你们客户反映的问题？这样，携程会倒闭的。2，结帐时，由于携程客户，不能提\n",
      "预测值 1, 真实值 1, 数据 每次到福州都住这里，就是宾馆前台服务太慢了....                                                                                                                                                                               \n",
      "预测值 1, 真实值 1, 数据 在携程定的价格和直接到酒店前台给的价格是一样的，没有优势。                                                                                                                                                                           \n",
      "预测值 1, 真实值 0, 数据 10月5号到6号，只住一天，中午12点左右到的宾馆，竟然房间还没有收拾，屋里一股臭味，酒店理由是人员不够，收拾不过来~~无语！2点才弄好，建议大家选择别的酒店，顺便说一句，一次性拖鞋10元一双还有酒店出门边上好像是BTV的餐厅，自助30一位，绝对超值，单点就不用了，又贵量又少。                                                             \n",
      "预测值 1, 真实值 0, 数据 从没住过服务这么差的洲际酒店，3/10入住，在前台CHECKIN时被告知携程上的免费洗衣取消了，让再次确认后很久才说还有保留（感觉就会有问题，后面结帐时果然发生），饮料券也是提醒后才肯给。楼层里一股装修的油漆味（10楼），房间非常小，感觉不超过30个平方，到晚上11点后还没送来迎宾水果（感觉这家洲际是所有环节能省就省）。第二天晚洗澡到一半就听到水管一阵<unk>动，接下来放出的都是铁锈水，急找毛巾擦干，居\n",
      "预测值 1, 真实值 1, 数据 房价偏贵，设施旧，服务还可以，交通比较方便，携程比自己前台登记也没有优势                                                                                                                                                                    \n",
      "预测值 1, 真实值 1, 数据 从机场到酒店大约25分钟，37元左右。酒店环境还不错，因为以前住过的原因感觉很亲切。离傅家庄公园非常近，早上去的时候正好赶上涨潮，<unk>了好多海带回来，味道还真是不错。建议打车到燕窝岭再<unk>步到老虎滩沿途风光非常美！酒店可以卖到优惠的景点门票。                                                                                 \n",
      "预测值 1, 真实值 1, 数据 我是本周5晚上入住假日酒店的，订的是海景房。酒店的周边环境很一般，所谓的海景也就是一个码头，和我想象的还是有一定的差距。周边的旅游设施也不是很完善。所谓的网球场也是冷冷清清。酒店的中餐厅味道不错，但是点菜的小姐缺乏职业道德。写菜的时候已经明确告知我要去掉其中的一道名为东江豆腐煲的菜，但是上菜的时候还是上了。不知道该酒店是怎样对员工进行培训的，2个人能吃4道菜吗？？？事后餐厅的领班还阵阵有词，让人感\n",
      "预测值 1, 真实值 1, 数据 感觉还不错，液晶电视，配有电脑。位置很好                                                                                                                                                                                    \n",
      "预测值 1, 真实值 1, 数据 优点：位置是挺好的，离火车站很近，离中央大街、<unk><unk>公园都很近，我们去的时候都<unk>步来去了这些地方；服务还可以；前台应变能力不错；劣势：普通间的水太小太小了，水温还不好控制，淋浴房也太小了；名气不是太大，几个出租车司机都还是由我们自己给他们指的路。                                                                              \n"
     ]
    }
   ],
   "source": [
    "ml.predict()  # 预测"
   ]
  }
 ],
 "metadata": {
  "kernelspec": {
   "display_name": "pytorch",
   "language": "python",
   "name": "python3"
  },
  "language_info": {
   "codemirror_mode": {
    "name": "ipython",
    "version": 3
   },
   "file_extension": ".py",
   "mimetype": "text/x-python",
   "name": "python",
   "nbconvert_exporter": "python",
   "pygments_lexer": "ipython3",
   "version": "3.12.9"
  },
  "widgets": {
   "application/vnd.jupyter.widget-state+json": {
    "state": {},
    "version_major": 2,
    "version_minor": 0
   }
  }
 },
 "nbformat": 4,
 "nbformat_minor": 5
}
