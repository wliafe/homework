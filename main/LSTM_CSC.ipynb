{
 "cells": [
  {
   "cell_type": "code",
   "execution_count": null,
   "id": "d670a19b-df4f-428d-8b1f-8cd6f646822a",
   "metadata": {},
   "outputs": [],
   "source": [
    "from pathlib import Path\n",
    "import torch\n",
    "from torch import nn\n",
    "from mltools import ld, draw, models, MachineLearning"
   ]
  },
  {
   "cell_type": "code",
   "execution_count": null,
   "id": "7569a924-2352-4a72-8bc5-0e3a520e04f0",
   "metadata": {},
   "outputs": [],
   "source": [
    "train_iter, val_iter, test_iter, vocab = ld.chn_senti_corp('../data/ChnSentiCorp_htl_all.csv')  # 加载词表，数据集\n",
    "rnn_layer = nn.LSTM(len(vocab), hidden_size=512, batch_first=True, bidirectional=True)  # 定义循环网络LSTM\n",
    "model = models.RNNModel(rnn_layer, vocab_size=len(vocab), step_size=200, output_size=2)  # 定义训练模型\n",
    "device = torch.device('cuda')\n",
    "\n",
    "\n",
    "class LSTMCSCMachineLearning(MachineLearning):\n",
    "    def calculate_model(self, x):\n",
    "        '''计算神经网络'''\n",
    "        y, _ = self.model(x)\n",
    "        return y\n",
    "\n",
    "    def grad_update(self, loss):\n",
    "        '''梯度更新'''\n",
    "        self.optimizer.zero_grad()\n",
    "        loss.backward()\n",
    "        nn.utils.clip_grad_norm_(self.model.parameters(), max_norm=1, norm_type=2)\n",
    "        self.optimizer.step()\n",
    "\n",
    "\n",
    "ml = LSTMCSCMachineLearning(model, train_iter, val_iter, test_iter, device=device)\n",
    "model_path = '../model/LSTM_CSC.pth'"
   ]
  },
  {
   "cell_type": "code",
   "execution_count": null,
   "id": "2b761f36-2b2c-4229-b169-4b6245e6632a",
   "metadata": {},
   "outputs": [],
   "source": [
    "if True:\n",
    "    ml.train(num_epochs=30, learning_rate=1e-1)  # 训练\n",
    "    if True:\n",
    "        torch.save(model.state_dict(), model_path)\n",
    "elif Path(model_path).exists():\n",
    "    model.load_state_dict(torch.load(model_path, map_location=device))"
   ]
  },
  {
   "cell_type": "code",
   "execution_count": null,
   "id": "670d4e12-f6d7-47ef-8c2e-8ac52298a8fa",
   "metadata": {},
   "outputs": [],
   "source": [
    "ml.test()  # 测试"
   ]
  },
  {
   "cell_type": "code",
   "execution_count": null,
   "id": "eb30c5c9-3d01-4e57-b691-dea0ff9a6606",
   "metadata": {},
   "outputs": [],
   "source": [
    "# 预测模型\n",
    "def predict(model, test_iter, device):\n",
    "    model.to(device)  # 将网络复制到device上\n",
    "    # 从测试中取一个批量\n",
    "    x, y = next(iter(test_iter))\n",
    "    x, y = x[:10].to(device), y[:10].to(device)\n",
    "    values = [''.join(item) for item in vocab[x.tolist()]]\n",
    "    # 预测\n",
    "    y_pred, _ = model(x)\n",
    "    y_pred = y_pred.argmax(dim=1)\n",
    "    for pred, true, value in zip(y_pred, y, values):\n",
    "        print(f'预测值 {pred}, 真实值 {true}, 数据 {value}')\n",
    "\n",
    "\n",
    "predict(model, test_iter, device)"
   ]
  }
 ],
 "metadata": {
  "kernelspec": {
   "display_name": "pytorch",
   "language": "python",
   "name": "python3"
  },
  "language_info": {
   "codemirror_mode": {
    "name": "ipython",
    "version": 3
   },
   "file_extension": ".py",
   "mimetype": "text/x-python",
   "name": "python",
   "nbconvert_exporter": "python",
   "pygments_lexer": "ipython3",
   "version": "3.10.16"
  },
  "widgets": {
   "application/vnd.jupyter.widget-state+json": {
    "state": {},
    "version_major": 2,
    "version_minor": 0
   }
  }
 },
 "nbformat": 4,
 "nbformat_minor": 5
}
