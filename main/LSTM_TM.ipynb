{
 "cells": [
  {
   "cell_type": "code",
   "execution_count": 1,
   "id": "ed72ca7e-badf-4126-b65d-017a10129cfc",
   "metadata": {},
   "outputs": [],
   "source": [
    "import torch\n",
    "from torch import nn, optim\n",
    "from torch.nn import functional as F\n",
    "import math\n",
    "import mltools\n",
    "from d2l import torch as d2l"
   ]
  },
  {
   "cell_type": "code",
   "execution_count": 2,
   "id": "477b210b",
   "metadata": {},
   "outputs": [],
   "source": [
    "class LSTMTMModel(nn.Module):\n",
    "    '''循环神经网络预测模型'''\n",
    "\n",
    "    def __init__(self, *args, vocab_size, **kwargs):\n",
    "        '''初始化函数'''\n",
    "        nn.Module.__init__(self, *args, **kwargs)\n",
    "        self.vocab_size = vocab_size  # 定义词汇表大小\n",
    "        self.hidden_layer = nn.LSTM(self.vocab_size, hidden_size=256, num_layers=1, batch_first=True)  # 定义隐藏层\n",
    "        self.output_layer = nn.Linear(256, self.vocab_size)  # 定义输出层\n",
    "\n",
    "    def forward(self, x, state=None):\n",
    "        '''前向传播'''\n",
    "        x = F.one_hot(x, self.vocab_size)  # 将输入嵌入, x形状为(批量大小, 时间步数, 嵌入大小)\n",
    "        x = x.to(torch.float32)\n",
    "        x, state = self.hidden_layer(x, state)  # x形状为(批量大小, 时间步数, 隐藏大小), state形状为(隐藏层数, 批量大小, 隐藏大小)\n",
    "        x = self.output_layer(x)  # 它的输出形状是(批量大小, 时间步数, 输出大小)\n",
    "        x = x.permute(0, 2, 1)  # 交换时间步数和输出大小的维度, x形状为(批量大小, 输出大小, 时间步数)\n",
    "        return x, state"
   ]
  },
  {
   "cell_type": "code",
   "execution_count": null,
   "id": "298c934b",
   "metadata": {},
   "outputs": [],
   "source": [
    "class LSTMTM(mltools.SupervisedLearning):\n",
    "    '''RNN 预测学习'''\n",
    "\n",
    "    @mltools.SupervisedLearning.trainer\n",
    "    def train(self, num_epochs):\n",
    "        '''迭代训练'''\n",
    "        for _ in range(1, num_epochs + 1):\n",
    "            self.timer.start()\n",
    "\n",
    "            # 计算训练集\n",
    "            metric_train = mltools.Accumulator(2)  # 累加器：(train_loss, train_size)\n",
    "            self.model.train()  # 训练模式\n",
    "            for x, y in self.train_iter:\n",
    "                x = x.to(self.device)  # 转换x\n",
    "                y = y.to(self.device)  # 转换y\n",
    "                y_train, _ = self.model(x)  # 计算模型\n",
    "                train_loss = self.loss(y_train, y)  # 计算训练损失\n",
    "\n",
    "                # 梯度更新\n",
    "                self.optimizer.zero_grad()\n",
    "                train_loss.backward()\n",
    "                nn.utils.clip_grad_norm_(self.model.parameters(), max_norm=1, norm_type=2)\n",
    "                self.optimizer.step()\n",
    "\n",
    "                metric_train.add(train_loss * y.numel(), y.numel())\n",
    "            self.recorder[0].append(math.exp(metric_train[0] / metric_train[1]))\n",
    "\n",
    "            self.timer.stop()\n",
    "\n",
    "            # 打印输出值\n",
    "            self.logger.info(f'train perplexity {self.recorder[0][-1]:.3f}, {self.timer.avg():.1f} sec/epoch on {str(self.device)}')\n",
    "            self.animator.show(self.recorder.data)  # 添加困惑度\n",
    "        else:\n",
    "            # 打印输出值\n",
    "            self.logger.info(f'train perplexity {self.recorder[0][-1]:.3f}, {self.timer.avg():.1f} sec/epoch on {str(self.device)}')\n",
    "\n",
    "    @mltools.SupervisedLearning.tester\n",
    "    def test(self):\n",
    "        '''测试模型'''\n",
    "        metric = mltools.Accumulator(2)  # 累加器：(test_acc, test_size)\n",
    "        with torch.no_grad():\n",
    "            for x, y in self.test_iter:\n",
    "                x = x.to(self.device)  # 转换x\n",
    "                y = y.to(self.device)  # 转换y\n",
    "                y_test, _ = self.model(x)  # 计算模型\n",
    "                test_pred = y_test.argmax(dim=1)  # 计算准确率\n",
    "                test_acc = (test_pred == y).sum()  # 计算测试准确率\n",
    "                metric.add(test_acc, y.numel())\n",
    "        self.logger.info(f'test acc {metric[0] / metric[1]:.3f}')  # 计算测试准确率并输出\n",
    "\n",
    "    @mltools.SupervisedLearning.predictor\n",
    "    def predict(self, prefix, num_preds=50):\n",
    "        '''预测模型'''\n",
    "        outputs = self.vocab[list(prefix)]\n",
    "        state = None\n",
    "        for y in prefix:  # 预热期\n",
    "            _, state = self.model(torch.tensor([self.vocab[y]], device=self.device).reshape(1, 1), state)\n",
    "        for _ in range(num_preds):  # 预测num_preds步\n",
    "            y, state = self.model(torch.tensor([outputs[-1]], device=self.device).reshape(1, 1), state)\n",
    "            outputs.append(int(y.argmax(dim=1).reshape(1)))\n",
    "        print(''.join([self.vocab.idx_to_token[i] for i in outputs]))"
   ]
  },
  {
   "cell_type": "code",
   "execution_count": null,
   "id": "7c58bd3a",
   "metadata": {},
   "outputs": [],
   "source": [
    "train_iter, vocab = d2l.load_data_time_machine(batch_size=32, num_steps=35)\n",
    "model = LSTMTMModel(vocab_size=len(vocab))  # 定义训练模型\n",
    "loss = nn.CrossEntropyLoss()  # 设置损失函数\n",
    "optimizer = optim.SGD(model.parameters(), lr=1)  # 设置优化器\n",
    "legend = ['train perplexity']  # 设置图例\n",
    "ml = LSTMTM(train_iter=train_iter, test_iter=train_iter, vocab=vocab, model=model, loss=loss, optimizer=optimizer, legend=legend, recorder_num=1)"
   ]
  },
  {
   "cell_type": "code",
   "execution_count": 5,
   "id": "e97c1e9c-6d66-43e3-bef3-f23de7cbef16",
   "metadata": {},
   "outputs": [
    {
     "name": "stderr",
     "output_type": "stream",
     "text": [
      "2025-05-24 14:54:28,710 - INFO: train perplexity 1.403, 0.1 sec/epoch on cuda\n"
     ]
    },
    {
     "data": {
      "image/png": "[encoded data removed]",
      "text/plain": [
       "<Figure size 640x480 with 1 Axes>"
      ]
     },
     "metadata": {},
     "output_type": "display_data"
    }
   ],
   "source": [
    "ml.train(num_epochs=500)  # 训练"
   ]
  },
  {
   "cell_type": "code",
   "execution_count": 6,
   "id": "cda23089-9767-4094-8e01-4202d3bbd0f6",
   "metadata": {},
   "outputs": [
    {
     "name": "stderr",
     "output_type": "stream",
     "text": [
      "2025-05-24 14:54:28,884 - INFO: test acc 0.894\n"
     ]
    }
   ],
   "source": [
    "ml.test()"
   ]
  },
  {
   "cell_type": "code",
   "execution_count": 7,
   "id": "ae6e54a5",
   "metadata": {},
   "outputs": [
    {
     "name": "stdout",
     "output_type": "stream",
     "text": [
      "time traveller fore wers llons in asmive in a say i it one ove th\n"
     ]
    }
   ],
   "source": [
    "ml.predict('time traveller ')"
   ]
  }
 ],
 "metadata": {
  "kernelspec": {
   "display_name": "limu",
   "language": "python",
   "name": "python3"
  },
  "language_info": {
   "codemirror_mode": {
    "name": "ipython",
    "version": 3
   },
   "file_extension": ".py",
   "mimetype": "text/x-python",
   "name": "python",
   "nbconvert_exporter": "python",
   "pygments_lexer": "ipython3",
   "version": "3.8.20"
  },
  "widgets": {
   "application/vnd.jupyter.widget-state+json": {
    "state": {},
    "version_major": 2,
    "version_minor": 0
   }
  }
 },
 "nbformat": 4,
 "nbformat_minor": 5
}
