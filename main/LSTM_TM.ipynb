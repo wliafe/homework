{
 "cells": [
  {
   "cell_type": "code",
   "execution_count": 1,
   "id": "ed72ca7e-badf-4126-b65d-017a10129cfc",
   "metadata": {},
   "outputs": [],
   "source": [
    "from pathlib import Path\n",
    "import torch\n",
    "from torch import nn, optim\n",
    "from torch.nn import functional as F\n",
    "import math\n",
    "from mltools import models, draw, MachineLearning, Recorder, Accumulator\n",
    "from d2l import torch as d2l"
   ]
  },
  {
   "cell_type": "code",
   "execution_count": 2,
   "id": "a5354524-586f-4ff8-a1b5-a0e7b86a6455",
   "metadata": {},
   "outputs": [],
   "source": [
    "train_iter, vocab = d2l.load_data_time_machine(batch_size=32, num_steps=35)\n",
    "rnn_layer = nn.LSTM(len(vocab), hidden_size=256, num_layers=1, batch_first=True)  # 定义循环网络LSTM\n",
    "model = models.RNNModel(lambda x: F.one_hot(x, len(vocab)), rnn_layer, step_size=1, output_size=len(vocab))  # 定义训练模型\n",
    "device = torch.device('cuda')\n",
    "\n",
    "\n",
    "class LSTMTMMachineLearning(MachineLearning):\n",
    "    def set_recorder(self):\n",
    "        '''设置损失记录器'''\n",
    "        self.recorder = Recorder(1)\n",
    "\n",
    "    def set_animator(self, num_epochs):\n",
    "        '''设置Animator'''\n",
    "        rlim = num_epochs + self.recorder.max_record_size()  # 计算xlim的右边界\n",
    "        self.animator = draw.Animator(xlabel='epoch', ylabel='perplexity', xlim=[0, rlim+1], ylim=-0.1)\n",
    "\n",
    "    def train_epoch(self):\n",
    "        '''一个迭代周期'''\n",
    "        self.timer.start()\n",
    "        self.calculate_train_iter()  # 计算训练集\n",
    "        self.timer.stop()\n",
    "        self.output_print()\n",
    "        self.animator.show(self.recorder.data, legend=['train'])  # 添加损失值\n",
    "\n",
    "    def calculate_train_iter(self):\n",
    "        '''计算训练集'''\n",
    "        metric = Accumulator(2)  # 累加器：(train_loss, train_size)\n",
    "        self.model.train()  # 训练模式\n",
    "        for x, y in self.train_iter:\n",
    "            x = self.transform_x(x)  # 转换x\n",
    "            y_train = self.calculate_model(x)  # 计算模型\n",
    "            y = self.transform_y(y)  # 转换y\n",
    "            y_train = self.transform_model_result(y_train)  # 转换模型结果\n",
    "            train_loss = self.calculate_loss(y_train, y)  # 计算训练损失\n",
    "            self.grad_update(train_loss)  # 梯度更新\n",
    "            metric.add(train_loss * len(y), len(y))\n",
    "        self.recorder[0].append(math.exp(metric[0] / metric[1]))\n",
    "\n",
    "    def transform_y(self, y):\n",
    "        '''转换y'''\n",
    "        return y.reshape(-1).to(self.device)\n",
    "\n",
    "    def calculate_model(self, x):\n",
    "        '''计算神经网络'''\n",
    "        y, _ = self.model(x)\n",
    "        return y\n",
    "\n",
    "    def grad_update(self, loss):\n",
    "        '''梯度更新'''\n",
    "        self.optimizer.zero_grad()\n",
    "        loss.backward()\n",
    "        nn.utils.clip_grad_norm_(self.model.parameters(), max_norm=1, norm_type=2)\n",
    "        self.optimizer.step()\n",
    "\n",
    "    def output_print(self):\n",
    "        '''打印输出值'''\n",
    "        print(f'困惑度 {self.recorder[0][-1]:.3f}')\n",
    "        print(f'{self.timer.sum() / self.num_epoch:.1f} sec/epoch on {str(self.device)}')\n",
    "\n",
    "    def predict(self, prefix, num_preds=50):\n",
    "        '''预测模型'''\n",
    "        self.model.eval()  # 验证模式\n",
    "        outputs = vocab[list(prefix)]\n",
    "        state = None\n",
    "        for y in prefix:  # 预热期\n",
    "            _, state = model(torch.tensor([vocab[y]], device=device).reshape(1, 1), state)\n",
    "        for _ in range(num_preds):  # 预测num_preds步\n",
    "            y, state = model(torch.tensor([outputs[-1]], device=device).reshape(1, 1), state)\n",
    "            outputs.append(int(y.argmax(dim=1).reshape(1)))\n",
    "        print(''.join([vocab.idx_to_token[i] for i in outputs]))\n",
    "\n",
    "\n",
    "ml = LSTMTMMachineLearning(model, train_iter, device=device)\n",
    "model_path = '../model/LSTM_TM.pth'  # 模型保存路径"
   ]
  },
  {
   "cell_type": "code",
   "execution_count": 3,
   "id": "e97c1e9c-6d66-43e3-bef3-f23de7cbef16",
   "metadata": {},
   "outputs": [
    {
     "name": "stdout",
     "output_type": "stream",
     "text": [
      "困惑度 1.389\n",
      "0.1 sec/epoch on cuda\n"
     ]
    },
    {
     "data": {
      "image/png": "[encoded data removed]",
      "text/plain": [
       "<Figure size 640x480 with 1 Axes>"
      ]
     },
     "metadata": {},
     "output_type": "display_data"
    }
   ],
   "source": [
    "ml.set_loss(nn.CrossEntropyLoss())\n",
    "ml.set_optimizer(optim.SGD(model.parameters(), lr=1))\n",
    "if True:\n",
    "    ml.train(num_epochs=500)  # 训练\n",
    "    if True:\n",
    "        torch.save(model.state_dict(), model_path)\n",
    "elif Path(model_path).exists():\n",
    "    model.load_state_dict(torch.load(model_path, map_location=device, weights_only=True))"
   ]
  },
  {
   "cell_type": "code",
   "execution_count": 4,
   "id": "cda23089-9767-4094-8e01-4202d3bbd0f6",
   "metadata": {},
   "outputs": [
    {
     "name": "stdout",
     "output_type": "stream",
     "text": [
      "Accuracy rate 0.906\n"
     ]
    }
   ],
   "source": [
    "ml.test()"
   ]
  },
  {
   "cell_type": "code",
   "execution_count": 5,
   "id": "ae6e54a5",
   "metadata": {},
   "outputs": [
    {
     "name": "stdout",
     "output_type": "stream",
     "text": [
      "time traveller fo eepess hered nismps and direction of space and \n"
     ]
    }
   ],
   "source": [
    "ml.predict('time traveller ')"
   ]
  }
 ],
 "metadata": {
  "kernelspec": {
   "display_name": "limu",
   "language": "python",
   "name": "python3"
  },
  "language_info": {
   "codemirror_mode": {
    "name": "ipython",
    "version": 3
   },
   "file_extension": ".py",
   "mimetype": "text/x-python",
   "name": "python",
   "nbconvert_exporter": "python",
   "pygments_lexer": "ipython3",
   "version": "3.8.20"
  },
  "widgets": {
   "application/vnd.jupyter.widget-state+json": {
    "state": {},
    "version_major": 2,
    "version_minor": 0
   }
  }
 },
 "nbformat": 4,
 "nbformat_minor": 5
}
