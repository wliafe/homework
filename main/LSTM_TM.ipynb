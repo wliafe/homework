{
 "cells": [
  {
   "cell_type": "code",
   "execution_count": 1,
   "id": "ed72ca7e-badf-4126-b65d-017a10129cfc",
   "metadata": {},
   "outputs": [],
   "source": [
    "import torch\n",
    "from torch import nn, optim\n",
    "from torch.nn import functional as F\n",
    "import math\n",
    "import mltools\n",
    "from d2l import torch as d2l"
   ]
  },
  {
   "cell_type": "code",
   "execution_count": 2,
   "id": "7c58bd3a",
   "metadata": {},
   "outputs": [],
   "source": [
    "train_iter, vocab = d2l.load_data_time_machine(batch_size=32, num_steps=35)\n",
    "\n",
    "\n",
    "class LSTMTMModel(nn.Module):\n",
    "    '''循环神经网络预测模型'''\n",
    "\n",
    "    def __init__(self, *args, **kwargs):\n",
    "        '''初始化函数'''\n",
    "        nn.Module.__init__(self, *args, **kwargs)\n",
    "        self.hidden_layer = nn.LSTM(len(vocab), hidden_size=256, num_layers=1, batch_first=True)  # 定义隐藏层\n",
    "        self.output_layer = nn.Linear(256, len(vocab))  # 定义输出层\n",
    "\n",
    "    def forward(self, x, state=None):\n",
    "        '''前向传播'''\n",
    "        x = F.one_hot(x, len(vocab))  # 将输入嵌入, x形状为(批量大小, 时间步数, 嵌入大小)\n",
    "        x = x.to(torch.float32)\n",
    "        x, state = self.hidden_layer(x, state)  # x形状为(批量大小, 时间步数, 隐藏大小), state形状为(隐藏层数, 批量大小, 隐藏大小)\n",
    "        x = self.output_layer(x)  # 它的输出形状是(批量大小, 时间步数, 输出大小)\n",
    "        x = x.permute(0, 2, 1)  # 交换时间步数和输出大小的维度, x形状为(批量大小, 输出大小, 时间步数)\n",
    "        return x, state\n",
    "\n",
    "\n",
    "model = LSTMTMModel()  # 定义训练模型\n",
    "device = torch.device('cuda')"
   ]
  },
  {
   "cell_type": "code",
   "execution_count": 3,
   "id": "a5354524-586f-4ff8-a1b5-a0e7b86a6455",
   "metadata": {},
   "outputs": [],
   "source": [
    "class LSTMTM(mltools.MachineLearning):\n",
    "    '''RNN 预测学习'''\n",
    "\n",
    "    def __init__(self, model, train_iter, *, device=torch.device('cpu')):\n",
    "        mltools.MachineLearning.__init__(self, model, train_iter, None, None, recorder_num=1, device=device)\n",
    "\n",
    "    def train(self, num_epochs):\n",
    "        '''迭代训练'''\n",
    "        mltools.MachineLearning.train(self, num_epochs)\n",
    "        for _ in range(1, num_epochs + 1):\n",
    "            self.timer.start()\n",
    "\n",
    "            # 计算训练集\n",
    "            metric_train = mltools.Accumulator(2)  # 累加器：(train_loss, train_size)\n",
    "            self.model.train()  # 训练模式\n",
    "            for x, y in self.train_iter:\n",
    "                x = x.to(self.device)  # 转换x\n",
    "                y = y.to(self.device)  # 转换y\n",
    "                y_train, _ = self.model(x)  # 计算模型\n",
    "                train_loss = self.loss(y_train, y)  # 计算训练损失\n",
    "\n",
    "                # 梯度更新\n",
    "                self.optimizer.zero_grad()\n",
    "                train_loss.backward()\n",
    "                nn.utils.clip_grad_norm_(self.model.parameters(), max_norm=1, norm_type=2)\n",
    "                self.optimizer.step()\n",
    "\n",
    "                metric_train.add(train_loss * y.numel(), y.numel())\n",
    "            self.recorder[0].append(math.exp(metric_train[0] / metric_train[1]))\n",
    "\n",
    "            self.timer.stop()\n",
    "\n",
    "            # 打印输出值\n",
    "            self.logger.info(f'train perplexity {self.recorder[0][-1]:.3f}, {self.timer.avg():.1f} sec/epoch on {str(self.device)}')\n",
    "            self.animator.show(self.recorder.data, legend=['train perplexity'])  # 添加困惑度\n",
    "        else:\n",
    "            # 打印输出值\n",
    "            self.logger.info(f'train perplexity {self.recorder[0][-1]:.3f}, {self.timer.avg():.1f} sec/epoch on {str(self.device)}')\n",
    "\n",
    "    def test(self):\n",
    "        '''测试模型'''\n",
    "        mltools.MachineLearning.test(self)\n",
    "        metric = mltools.Accumulator(2)  # 累加器：(test_acc, test_size)\n",
    "        with torch.no_grad():\n",
    "            for x, y in self.test_iter:\n",
    "                x = x.to(self.device)  # 转换x\n",
    "                y = y.to(self.device)  # 转换y\n",
    "                y_test, _ = self.model(x)  # 计算模型\n",
    "                test_pred = y_test.argmax(dim=1)  # 计算准确率\n",
    "                test_acc = (test_pred == y).sum()  # 计算测试准确率\n",
    "                metric.add(test_acc, y.numel())\n",
    "        self.logger.info(f'test acc {metric[0] / metric[1]:.3f}')  # 计算测试准确率并输出\n",
    "\n",
    "    def predict(self, prefix, num_preds=50):\n",
    "        '''预测模型'''\n",
    "        mltools.MachineLearning.predict(self)\n",
    "        outputs = vocab[list(prefix)]\n",
    "        state = None\n",
    "        for y in prefix:  # 预热期\n",
    "            _, state = model(torch.tensor([vocab[y]], device=device).reshape(1, 1), state)\n",
    "        for _ in range(num_preds):  # 预测num_preds步\n",
    "            y, state = model(torch.tensor([outputs[-1]], device=device).reshape(1, 1), state)\n",
    "            outputs.append(int(y.argmax(dim=1).reshape(1)))\n",
    "        print(''.join([vocab.idx_to_token[i] for i in outputs]))\n",
    "\n",
    "\n",
    "ml = LSTMTM(model, train_iter, device=device)"
   ]
  },
  {
   "cell_type": "code",
   "execution_count": 4,
   "id": "c3234829",
   "metadata": {},
   "outputs": [],
   "source": [
    "ml.set_loss(nn.CrossEntropyLoss())\n",
    "ml.set_optimizer(optim.SGD(model.parameters(), lr=1))"
   ]
  },
  {
   "cell_type": "code",
   "execution_count": 5,
   "id": "e97c1e9c-6d66-43e3-bef3-f23de7cbef16",
   "metadata": {},
   "outputs": [
    {
     "name": "stderr",
     "output_type": "stream",
     "text": [
      "2025-05-23 13:49:43,643 - INFO: train perplexity 1.402, 0.1 sec/epoch on cuda\n"
     ]
    },
    {
     "data": {
      "image/png": "[encoded data removed]",
      "text/plain": [
       "<Figure size 640x480 with 1 Axes>"
      ]
     },
     "metadata": {},
     "output_type": "display_data"
    }
   ],
   "source": [
    "ml.train(num_epochs=500)  # 训练"
   ]
  },
  {
   "cell_type": "code",
   "execution_count": 6,
   "id": "8f0f6e0a",
   "metadata": {},
   "outputs": [
    {
     "name": "stderr",
     "output_type": "stream",
     "text": [
      "2025-05-23 13:49:43,751 - INFO: save animation to ../results/2025-05-23-13-47-51-LSTMTM/LSTMTM.png\n",
      "2025-05-23 13:49:43,756 - INFO: save model to ../results/2025-05-23-13-47-51-LSTMTM/LSTMTM.pth\n"
     ]
    }
   ],
   "source": [
    "ml.save()  # 保存"
   ]
  },
  {
   "cell_type": "code",
   "execution_count": 7,
   "id": "cda23089-9767-4094-8e01-4202d3bbd0f6",
   "metadata": {},
   "outputs": [
    {
     "name": "stderr",
     "output_type": "stream",
     "text": [
      "2025-05-23 13:49:43,825 - INFO: test acc 0.895\n"
     ]
    }
   ],
   "source": [
    "ml.test()"
   ]
  },
  {
   "cell_type": "code",
   "execution_count": 8,
   "id": "ae6e54a5",
   "metadata": {},
   "outputs": [
    {
     "name": "stdout",
     "output_type": "stream",
     "text": [
      "time traveller of e can on uneisotheravitient of orectute at intr\n"
     ]
    }
   ],
   "source": [
    "ml.predict('time traveller ')"
   ]
  }
 ],
 "metadata": {
  "kernelspec": {
   "display_name": "Python 3",
   "language": "python",
   "name": "python3"
  },
  "language_info": {
   "codemirror_mode": {
    "name": "ipython",
    "version": 3
   },
   "file_extension": ".py",
   "mimetype": "text/x-python",
   "name": "python",
   "nbconvert_exporter": "python",
   "pygments_lexer": "ipython3",
   "version": "3.8.20"
  },
  "widgets": {
   "application/vnd.jupyter.widget-state+json": {
    "state": {},
    "version_major": 2,
    "version_minor": 0
   }
  }
 },
 "nbformat": 4,
 "nbformat_minor": 5
}
