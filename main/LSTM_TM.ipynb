{
 "cells": [
  {
   "cell_type": "code",
   "execution_count": 1,
   "id": "ed72ca7e-badf-4126-b65d-017a10129cfc",
   "metadata": {},
   "outputs": [],
   "source": [
    "from pathlib import Path\n",
    "import torch\n",
    "from torch import nn\n",
    "import math\n",
    "from mltools import draw, models, MachineLearning, Accumulator\n",
    "from d2l import torch as d2l"
   ]
  },
  {
   "cell_type": "code",
   "execution_count": null,
   "id": "a5354524-586f-4ff8-a1b5-a0e7b86a6455",
   "metadata": {},
   "outputs": [],
   "source": [
    "train_iter, vocab = d2l.load_data_time_machine(batch_size=32, num_steps=35)\n",
    "rnn_layer = nn.LSTM(len(vocab), hidden_size=256, num_layers=1, batch_first=True)  # 定义循环网络LSTM\n",
    "model = models.RNNModel(rnn_layer, vocab_size=len(vocab))  # 定义训练模型\n",
    "device = torch.device('cuda')\n",
    "\n",
    "\n",
    "class LSTMTMMachineLearning(MachineLearning):\n",
    "    def set_animator(self, num_epochs):\n",
    "        self.animator = draw.Animator(line_num=1, xlabel='epoch', ylabel='perplexity', xlim=[0, num_epochs+1], ylim=-0.1, legend=['train'])\n",
    "\n",
    "    def train_epoch(self):\n",
    "        '''一个迭代周期'''\n",
    "        self.timer.start()\n",
    "        self.calculate_train_iter()  # 计算训练集\n",
    "        self.timer.stop()\n",
    "        self.output_print()\n",
    "        self.animator.add(self.perplexity)  # 添加损失值\n",
    "\n",
    "    def calculate_train_iter(self):\n",
    "        '''计算训练集'''\n",
    "        metric = Accumulator(2)  # 累加器：(train_loss, train_size)\n",
    "        self.model.train()  # 训练模式\n",
    "        for x, y in self.train_iter:\n",
    "            x = self.transform_x(x)  # 转换x\n",
    "            y_train = self.calculate_model(x)  # 计算模型\n",
    "            y = self.transform_y(y)  # 转换y\n",
    "            train_loss = self.calculate_loss(y_train, y)  # 计算训练损失\n",
    "            self.grad_update(train_loss)  # 梯度更新\n",
    "            metric.add(train_loss * len(y), len(y))\n",
    "        self.perplexity = math.exp(metric[0] / metric[1])\n",
    "\n",
    "    def transform_y(self, y):\n",
    "        '''转换y'''\n",
    "        return y.reshape(-1).to(self.device)\n",
    "\n",
    "    def calculate_model(self, x):\n",
    "        '''计算神经网络'''\n",
    "        y, _ = self.model(x)\n",
    "        return y\n",
    "\n",
    "    def grad_update(self, loss):\n",
    "        '''梯度更新'''\n",
    "        self.optimizer.zero_grad()\n",
    "        loss.backward()\n",
    "        nn.utils.clip_grad_norm_(self.model.parameters(), max_norm=1, norm_type=2)\n",
    "        self.optimizer.step()\n",
    "\n",
    "    def output_print(self):\n",
    "        '''打印输出值'''\n",
    "        print(f'困惑度 {self.perplexity:.3f}')\n",
    "        print(f'{self.timer.sum() / self.num_epoch:.1f} sec/epoch on {str(self.device)}')\n",
    "\n",
    "\n",
    "ml = LSTMTMMachineLearning(model, train_iter, device=device)\n",
    "model_path = '../model/LSTM_TM.pth'  # 模型保存路径"
   ]
  },
  {
   "cell_type": "code",
   "execution_count": null,
   "id": "e97c1e9c-6d66-43e3-bef3-f23de7cbef16",
   "metadata": {},
   "outputs": [
    {
     "name": "stdout",
     "output_type": "stream",
     "text": [
      "perplexity 1.422\n",
      "0.1 sec/epoch on cuda\n"
     ]
    },
    {
     "data": {
      "image/png": "[encoded data removed]",
      "text/plain": [
       "<Figure size 640x480 with 1 Axes>"
      ]
     },
     "metadata": {},
     "output_type": "display_data"
    }
   ],
   "source": [
    "if True:\n",
    "    ml.train(num_epochs=500, learning_rate=1)  # 训练\n",
    "    if True:\n",
    "        torch.save(model.state_dict(), model_path)\n",
    "elif Path(model_path).exists():\n",
    "    model.load_state_dict(torch.load(model_path, map_location=device, weights_only=True))"
   ]
  },
  {
   "cell_type": "code",
   "execution_count": null,
   "id": "cda23089-9767-4094-8e01-4202d3bbd0f6",
   "metadata": {},
   "outputs": [
    {
     "name": "stdout",
     "output_type": "stream",
     "text": [
      "Accuracy rate 0.8986607142857143\n"
     ]
    }
   ],
   "source": [
    "ml.test()"
   ]
  },
  {
   "cell_type": "code",
   "execution_count": null,
   "id": "ae6e54a5",
   "metadata": {},
   "outputs": [
    {
     "data": {
      "text/plain": [
       "'time traveller folld his thas s ancumureryand a fourth trament of'"
      ]
     },
     "execution_count": 5,
     "metadata": {},
     "output_type": "execute_result"
    }
   ],
   "source": [
    "prefix = 'time traveller '\n",
    "num_preds = 50\n",
    "model.to(device)\n",
    "model.eval()\n",
    "outputs = vocab[list(prefix)]\n",
    "state = None\n",
    "for y in prefix:  # 预热期\n",
    "    _, state = model(torch.tensor([vocab[y]], device=device).reshape(1, 1), state)\n",
    "for _ in range(num_preds):  # 预测num_preds步\n",
    "    y, state = model(torch.tensor([outputs[-1]], device=device).reshape(1, 1), state)\n",
    "    outputs.append(int(y.argmax(dim=1).reshape(1)))\n",
    "''.join([vocab.idx_to_token[i] for i in outputs])"
   ]
  }
 ],
 "metadata": {
  "kernelspec": {
   "display_name": "pytorch",
   "language": "python",
   "name": "python3"
  },
  "language_info": {
   "codemirror_mode": {
    "name": "ipython",
    "version": 3
   },
   "file_extension": ".py",
   "mimetype": "text/x-python",
   "name": "python",
   "nbconvert_exporter": "python",
   "pygments_lexer": "ipython3",
   "version": "3.13.2"
  },
  "widgets": {
   "application/vnd.jupyter.widget-state+json": {
    "state": {},
    "version_major": 2,
    "version_minor": 0
   }
  }
 },
 "nbformat": 4,
 "nbformat_minor": 5
}
