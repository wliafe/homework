{
 "cells": [
  {
   "cell_type": "code",
   "execution_count": null,
   "id": "37dd62c2-a9ec-4d73-a5e7-561214579102",
   "metadata": {},
   "outputs": [],
   "source": [
    "from pathlib import Path\n",
    "import torch\n",
    "from torch import nn\n",
    "from mltools import ld, draw, models\n",
    "from d2l import torch as d2l"
   ]
  },
  {
   "cell_type": "code",
   "execution_count": null,
   "id": "a998e95a-4bb4-4870-82fa-a3752c649948",
   "metadata": {},
   "outputs": [],
   "source": [
    "train_iter, val_iter, vocab = d2l.load_data_imdb(batch_size=5, num_steps=500)\n",
    "rnn_layer = nn.LSTM(len(vocab), hidden_size=512, batch_first=True, bidirectional=True)  # 定义循环网络LSTM\n",
    "model = models.RNNModel(rnn_layer, vocab_size=len(vocab), step_size=500, output_size=2)  # 定义训练模型\n",
    "device = torch.device('cuda')\n",
    "\n",
    "\n",
    "class LSTMIMDBMachineLearning(MachineLearning):\n",
    "    def calculate_model(self, x):\n",
    "        '''计算神经网络'''\n",
    "        y, _ = self.model(x)\n",
    "        return y\n",
    "\n",
    "    def grad_update(self, loss):\n",
    "        '''梯度更新'''\n",
    "        self.optimizer.zero_grad()\n",
    "        loss.backward()\n",
    "        nn.utils.clip_grad_norm_(self.model.parameters(), max_norm=1, norm_type=2)\n",
    "        self.optimizer.step()\n",
    "\n",
    "\n",
    "ml = LSTMIMDBMachineLearning(model, train_iter, val_iter, test_iter, device=device)"
   ]
  },
  {
   "cell_type": "code",
   "execution_count": null,
   "id": "e4b7abba-6e24-4307-b15c-0105cc51e096",
   "metadata": {},
   "outputs": [],
   "source": [
    "if True:\n",
    "    ml.train(num_epochs=10, learning_rate=1)  # 训练\n",
    "    if True:\n",
    "        torch.save(model.state_dict(), model_path)\n",
    "elif Path(model_path).exists():\n",
    "    model.load_state_dict(torch.load(model_path, map_location=device))"
   ]
  }
 ],
 "metadata": {
  "kernelspec": {
   "display_name": "Python 3 (ipykernel)",
   "language": "python",
   "name": "python3"
  },
  "language_info": {
   "codemirror_mode": {
    "name": "ipython",
    "version": 3
   },
   "file_extension": ".py",
   "mimetype": "text/x-python",
   "name": "python",
   "nbconvert_exporter": "python",
   "pygments_lexer": "ipython3",
   "version": "3.10.16"
  },
  "widgets": {
   "application/vnd.jupyter.widget-state+json": {
    "state": {},
    "version_major": 2,
    "version_minor": 0
   }
  }
 },
 "nbformat": 4,
 "nbformat_minor": 5
}
