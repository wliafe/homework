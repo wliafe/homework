{
 "cells": [
  {
   "cell_type": "code",
   "execution_count": null,
   "id": "d15739fc",
   "metadata": {},
   "outputs": [],
   "source": [
    "import torch\n",
    "from torch import nn, optim\n",
    "import mltools\n",
    "import dataloder as dl"
   ]
  },
  {
   "cell_type": "code",
   "execution_count": null,
   "id": "fd74fa40",
   "metadata": {},
   "outputs": [],
   "source": [
    "class TransformerMNISTModel(nn.Module):\n",
    "    \"\"\"Transformer 分类模型\"\"\"\n",
    "\n",
    "    def __init__(self, *args, **kwargs):\n",
    "        \"\"\"初始化函数\"\"\"\n",
    "        nn.Module.__init__(self, *args, **kwargs)\n",
    "        encode_layer = nn.TransformerEncoderLayer(d_model=28, nhead=4, batch_first=True)\n",
    "        self.hidden_layer = nn.TransformerEncoder(encode_layer, num_layers=6)  # 定义隐藏层\n",
    "        self.output_layer = nn.Linear(28, 10)  # 定义输出层\n",
    "\n",
    "    def forward(self, x):\n",
    "        \"\"\"前向传播\"\"\"\n",
    "        x = self.hidden_layer(x)  # x形状为(批量大小, 时间步数, 隐藏大小)\n",
    "        x = self.output_layer(x[:, 0, :])  # 它的输出形状是(批量大小, 输出大小)\n",
    "        return x"
   ]
  },
  {
   "cell_type": "code",
   "execution_count": null,
   "id": "f22c003f",
   "metadata": {},
   "outputs": [],
   "source": [
    "device = torch.device(\"cuda\")\n",
    "train_iter, val_iter, test_iter = dl.mnist(batch_size=1000)  # 获取训练集、验证集和测试集\n",
    "model = TransformerMNISTModel()  # 定义训练模型\n",
    "model.to(device)\n",
    "loss = nn.CrossEntropyLoss()  # 设置损失函数\n",
    "optimizer = optim.SGD(model.parameters(), lr=1e-1)  # 设置优化器\n",
    "ml = mltools.MachineLearning(\"TransformerMNIST\")\n",
    "ml.add_model(model)\n",
    "epoch, timer, recorder = ml.batch_create()"
   ]
  },
  {
   "cell_type": "code",
   "execution_count": null,
   "id": "de888e3e",
   "metadata": {},
   "outputs": [],
   "source": [
    "# 训练模型\n",
    "num_epochs = epoch(100)\n",
    "animator = ml.create_animator(xlabel=\"epoch\", xlim=[0, epoch.totol_epoch + 1], ylim=-0.1, legend=[\"train loss\", \"val loss\", \"val acc\"])  # 创建动画器\n",
    "for current_epoch in range(1, num_epochs + 1):\n",
    "    timer.start()\n",
    "\n",
    "    # 计算训练集\n",
    "    metric_train = mltools.Accumulator(2)  # 累加器：(train_loss, train_size)\n",
    "    model.train()  # 训练模式\n",
    "    for x, y in train_iter:\n",
    "        x = x.to(device)  # 转换x\n",
    "        x = x.permute(0, 2, 1, 3)  # 交换图片通道数和图片高度的维度, x形状为(批量大小, 图片高度, 图片通道数, 图片宽度)\n",
    "        x = x.reshape(x.shape[0], x.shape[1], -1)  # 将图片展平, x形状为(批量大小, 图片高度, 图片通道数 * 图片宽度)\n",
    "        y = y.to(device)  # 转换y\n",
    "        y_train = model(x)  # 计算模型\n",
    "        train_loss = loss(y_train, y)  # 计算训练损失\n",
    "\n",
    "        # 梯度更新\n",
    "        optimizer.zero_grad()\n",
    "        train_loss.backward()\n",
    "        nn.utils.clip_grad_norm_(model.parameters(), max_norm=1, norm_type=2)\n",
    "        optimizer.step()\n",
    "\n",
    "        metric_train.add(train_loss * y.numel(), y.numel())\n",
    "    recorder[0].append(metric_train[0] / metric_train[1])\n",
    "\n",
    "    # 计算验证集\n",
    "    metric_val = mltools.Accumulator(3)  # 累加器：(val_loss, val_acc, val_size)\n",
    "    model.eval()  # 验证模式\n",
    "    with torch.no_grad():\n",
    "        for x, y in val_iter:\n",
    "            x = x.to(device)  # 转换x\n",
    "            x = x.permute(0, 2, 1, 3)  # 交换图片通道数和图片高度的维度, x形状为(批量大小, 图片高度, 图片通道数, 图片宽度)\n",
    "            x = x.reshape(x.shape[0], x.shape[1], -1)  # 将图片展平, x形状为(批量大小, 图片高度, 图片通道数 * 图片宽度)\n",
    "            y = y.to(device)  # 转换y\n",
    "            y_val = model(x)  # 计算模型\n",
    "            val_loss = loss(y_val, y)  # 计算验证损失\n",
    "            val_pred = y_val.argmax(dim=1)  # 计算预测值\n",
    "            val_acc = (val_pred == y).sum()  # 计算验证准确率\n",
    "            metric_val.add(val_loss * y.numel(), val_acc, y.numel())\n",
    "    recorder[1].append(metric_val[0] / metric_val[2])\n",
    "    recorder[2].append(metric_val[1] / metric_val[2])\n",
    "\n",
    "    timer.stop()\n",
    "\n",
    "    # 打印输出值\n",
    "    ml.logger.info(f\"train loss {recorder[0][-1]:.3f}, val loss {recorder[1][-1]:.3f}, val acc {recorder[2][-1]:.3f}\")\n",
    "    ml.print_training_time_massage(timer, num_epochs, current_epoch)\n",
    "    ml.logger.info(f\"trained on {str(device)}\")\n",
    "    animator.show(recorder.data)\n",
    "else:\n",
    "    # 打印输出值\n",
    "    ml.logger.info(f\"train loss {recorder[0][-1]:.3f}, val loss {recorder[1][-1]:.3f}, val acc {recorder[2][-1]:.3f}\")\n",
    "    ml.print_training_time_massage(timer, num_epochs, current_epoch)\n",
    "    ml.logger.info(f\"trained on {str(device)}\")\n",
    "    animator.show(recorder.data)\n",
    "ml.save()"
   ]
  },
  {
   "cell_type": "code",
   "execution_count": null,
   "id": "c61f1059",
   "metadata": {},
   "outputs": [],
   "source": [
    "# 测试模型\n",
    "model.eval()\n",
    "metric = mltools.Accumulator(2)  # 累加器：(test_acc, test_size)\n",
    "with torch.no_grad():\n",
    "    for x, y in test_iter:\n",
    "        x = x.to(device)  # 转换x\n",
    "        x = x.permute(0, 2, 1, 3)  # 交换图片通道数和图片高度的维度, x形状为(批量大小, 图片高度, 图片通道数, 图片宽度)\n",
    "        x = x.reshape(x.shape[0], x.shape[1], -1)  # 将图片展平, x形状为(批量大小, 图片高度, 图片通道数 * 图片宽度)\n",
    "        y = y.to(device)  # 转换y\n",
    "        y_test = model(x)  # 计算模型\n",
    "        test_pred = y_test.argmax(dim=1)  # 计算准确率\n",
    "        test_acc = (test_pred == y).sum()  # 计算测试准确率\n",
    "        metric.add(test_acc, y.numel())\n",
    "ml.logger.info(f\"test acc {metric[0] / metric[1]:.3f}\")  # 计算测试准确率并输出"
   ]
  },
  {
   "cell_type": "code",
   "execution_count": null,
   "id": "881f4cc8",
   "metadata": {},
   "outputs": [],
   "source": [
    "# 预测模型\n",
    "model.eval()\n",
    "x, y = next(iter(test_iter))  # 从测试中取一个批量\n",
    "x = x[:10].to(device)\n",
    "x = x.permute(0, 2, 1, 3)  # 交换图片通道数和图片高度的维度, x形状为(批量大小, 图片高度, 图片通道数, 图片宽度)\n",
    "x = x.reshape(x.shape[0], x.shape[1], -1)  # 将图片展平, x形状为(批量大小, 图片高度, 图片通道数 * 图片宽度)\n",
    "y = y[:10].to(device)\n",
    "y_pred = model(x)  # 计算模型\n",
    "y_pred = y_pred.argmax(dim=1)  # 计算预测\n",
    "labels = [f\"real:{y[index]}\\npred:{y_pred[index]}\" for index in range(y.numel())]\n",
    "mltools.images(x.squeeze(1), labels, shape=(2, 5))"
   ]
  }
 ],
 "metadata": {
  "kernelspec": {
   "display_name": "homework",
   "language": "python",
   "name": "python3"
  },
  "language_info": {
   "codemirror_mode": {
    "name": "ipython",
    "version": 3
   },
   "file_extension": ".py",
   "mimetype": "text/x-python",
   "name": "python",
   "nbconvert_exporter": "python",
   "pygments_lexer": "ipython3",
   "version": "3.8.20"
  }
 },
 "nbformat": 4,
 "nbformat_minor": 5
}
